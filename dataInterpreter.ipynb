{
 "cells": [
  {
   "cell_type": "code",
   "execution_count": 1,
   "id": "44a1bb8a-82eb-4e9f-9ca8-aca147847e4b",
   "metadata": {},
   "outputs": [],
   "source": [
    "import pandas as pd\n"
   ]
  },
  {
   "cell_type": "code",
   "execution_count": 37,
   "id": "ee400280-a474-4a84-b945-6ba5a455227f",
   "metadata": {},
   "outputs": [],
   "source": [
    "df = pd.read_csv('jobOffers.csv', index_col=0)"
   ]
  },
  {
   "cell_type": "code",
   "execution_count": 39,
   "id": "14298dd8-b274-4d35-aaf9-d5345eff167e",
   "metadata": {},
   "outputs": [
    {
     "data": {
      "text/html": [
       "<div>\n",
       "<style scoped>\n",
       "    .dataframe tbody tr th:only-of-type {\n",
       "        vertical-align: middle;\n",
       "    }\n",
       "\n",
       "    .dataframe tbody tr th {\n",
       "        vertical-align: top;\n",
       "    }\n",
       "\n",
       "    .dataframe thead th {\n",
       "        text-align: right;\n",
       "    }\n",
       "</style>\n",
       "<table border=\"1\" class=\"dataframe\">\n",
       "  <thead>\n",
       "    <tr style=\"text-align: right;\">\n",
       "      <th></th>\n",
       "      <th>jobTitles</th>\n",
       "      <th>company</th>\n",
       "      <th>salaryRange</th>\n",
       "      <th>Bonus</th>\n",
       "      <th>category+progLang</th>\n",
       "      <th>seniority</th>\n",
       "      <th>workLanguage</th>\n",
       "      <th>location</th>\n",
       "      <th>remote</th>\n",
       "    </tr>\n",
       "  </thead>\n",
       "  <tbody>\n",
       "    <tr>\n",
       "      <th>0</th>\n",
       "      <td>Java Software Developer</td>\n",
       "      <td>Intempt Technologies</td>\n",
       "      <td>23.2k  - 34.9k  CZK</td>\n",
       "      <td>NaN</td>\n",
       "      <td>Backend, java</td>\n",
       "      <td>Junior</td>\n",
       "      <td>Work language:angličtina</td>\n",
       "      <td>NaN</td>\n",
       "      <td>Na dálku</td>\n",
       "    </tr>\n",
       "    <tr>\n",
       "      <th>1</th>\n",
       "      <td>C++ Developer</td>\n",
       "      <td>Sourcein</td>\n",
       "      <td>70k  - 140k  CZK</td>\n",
       "      <td>NaN</td>\n",
       "      <td>Backend, C#</td>\n",
       "      <td>Mid, Senior</td>\n",
       "      <td>Work language:česky</td>\n",
       "      <td>Prague, Altajská 1568/4 (Po pandemi)• Prague,...</td>\n",
       "      <td>Covid-time na dálku</td>\n",
       "    </tr>\n",
       "    <tr>\n",
       "      <th>2</th>\n",
       "      <td>C# Developer</td>\n",
       "      <td>Sourcein</td>\n",
       "      <td>70k  - 140k  CZK</td>\n",
       "      <td>NaN</td>\n",
       "      <td>Backend, C#</td>\n",
       "      <td>Mid, Senior</td>\n",
       "      <td>Work language:česky</td>\n",
       "      <td>Prague, Altajská 1568/4 (Po pandemi)• Prague,...</td>\n",
       "      <td>Covid-time na dálku</td>\n",
       "    </tr>\n",
       "    <tr>\n",
       "      <th>3</th>\n",
       "      <td>Java developer u Medvědů</td>\n",
       "      <td>Coding Bear</td>\n",
       "      <td>60k  - 120k  CZK</td>\n",
       "      <td>NaN</td>\n",
       "      <td>Backend, java</td>\n",
       "      <td>Mid, Senior</td>\n",
       "      <td>Work language:česky</td>\n",
       "      <td>Praha, Vítkova 241/10 • Praha, Vítkova 241/10</td>\n",
       "      <td>NaN</td>\n",
       "    </tr>\n",
       "    <tr>\n",
       "      <th>4</th>\n",
       "      <td>Senior Backend Developer</td>\n",
       "      <td>DX Heroes</td>\n",
       "      <td>60k  - 100k  CZK</td>\n",
       "      <td>NaN</td>\n",
       "      <td>Backend, node</td>\n",
       "      <td>Mid, Senior</td>\n",
       "      <td>Work language:česky, angličtina</td>\n",
       "      <td>Praha, Rohanské nábř. 19 • Remote• Praha, Roh...</td>\n",
       "      <td>Na dálku</td>\n",
       "    </tr>\n",
       "  </tbody>\n",
       "</table>\n",
       "</div>"
      ],
      "text/plain": [
       "                    jobTitles                 company            salaryRange  \\\n",
       "0    Java Software Developer    Intempt Technologies    23.2k  - 34.9k  CZK    \n",
       "1              C++ Developer                Sourcein       70k  - 140k  CZK    \n",
       "2               C# Developer                Sourcein       70k  - 140k  CZK    \n",
       "3   Java developer u Medvědů             Coding Bear       60k  - 120k  CZK    \n",
       "4   Senior Backend Developer               DX Heroes       60k  - 100k  CZK    \n",
       "\n",
       "  Bonus category+progLang      seniority                     workLanguage  \\\n",
       "0   NaN     Backend, java        Junior          Work language:angličtina   \n",
       "1   NaN       Backend, C#   Mid, Senior               Work language:česky   \n",
       "2   NaN       Backend, C#   Mid, Senior               Work language:česky   \n",
       "3   NaN     Backend, java   Mid, Senior               Work language:česky   \n",
       "4   NaN     Backend, node   Mid, Senior   Work language:česky, angličtina   \n",
       "\n",
       "                                            location                 remote  \n",
       "0                                                NaN              Na dálku   \n",
       "1   Prague, Altajská 1568/4 (Po pandemi)• Prague,...   Covid-time na dálku   \n",
       "2   Prague, Altajská 1568/4 (Po pandemi)• Prague,...   Covid-time na dálku   \n",
       "3     Praha, Vítkova 241/10 • Praha, Vítkova 241/10                     NaN  \n",
       "4   Praha, Rohanské nábř. 19 • Remote• Praha, Roh...              Na dálku   "
      ]
     },
     "execution_count": 39,
     "metadata": {},
     "output_type": "execute_result"
    }
   ],
   "source": [
    "df.head()\n"
   ]
  },
  {
   "cell_type": "code",
   "execution_count": 24,
   "id": "0024a3f3-ae8a-4470-9f1a-e794b7ccf8b0",
   "metadata": {},
   "outputs": [],
   "source": [
    "#salary\n",
    "df = df.drop(df[df['salaryRange'] == 'neplacená stáž'].index)\n",
    "df['salLower'] = df['salaryRange'].str.split(\" - \").str[0].str.split(\"  \").str[0]\n",
    "df['salUpper'] = df['salaryRange'].str.split(\" - \").str[1].str.split(\"  \").str[0]\n",
    "\n",
    "df['salLower'] = df['salLower'].replace({'k': '*1e3'}, regex=True).map(pd.eval).astype(int)\n",
    "df['salUpper'].fillna(df['salLower'], inplace = True)\n",
    "df['salUpper'] = df['salUpper'].replace({'k': '*1e3'}, regex=True).map(pd.eval).astype(int)\n",
    "\n",
    "df['salAvg'] = (df['salUpper'] + df['salLower'])/2\n"
   ]
  },
  {
   "cell_type": "code",
   "execution_count": 25,
   "id": "b097f546-b89d-42a1-951f-cb9bed1f9e24",
   "metadata": {},
   "outputs": [
    {
     "data": {
      "text/html": [
       "<div>\n",
       "<style scoped>\n",
       "    .dataframe tbody tr th:only-of-type {\n",
       "        vertical-align: middle;\n",
       "    }\n",
       "\n",
       "    .dataframe tbody tr th {\n",
       "        vertical-align: top;\n",
       "    }\n",
       "\n",
       "    .dataframe thead th {\n",
       "        text-align: right;\n",
       "    }\n",
       "</style>\n",
       "<table border=\"1\" class=\"dataframe\">\n",
       "  <thead>\n",
       "    <tr style=\"text-align: right;\">\n",
       "      <th></th>\n",
       "      <th>jobTitles</th>\n",
       "      <th>company</th>\n",
       "      <th>salaryRange</th>\n",
       "      <th>Bonus</th>\n",
       "      <th>category+progLang</th>\n",
       "      <th>seniority</th>\n",
       "      <th>workLanguage</th>\n",
       "      <th>location</th>\n",
       "      <th>remote</th>\n",
       "      <th>salLower</th>\n",
       "      <th>salUpper</th>\n",
       "      <th>salAvg</th>\n",
       "      <th>category</th>\n",
       "      <th>mainProgLang</th>\n",
       "    </tr>\n",
       "  </thead>\n",
       "  <tbody>\n",
       "    <tr>\n",
       "      <th>0</th>\n",
       "      <td>Java Software Developer</td>\n",
       "      <td>Intempt Technologies</td>\n",
       "      <td>23.2k  - 34.9k  CZK</td>\n",
       "      <td>NaN</td>\n",
       "      <td>Backend, java</td>\n",
       "      <td>Junior</td>\n",
       "      <td>Work language:angličtina</td>\n",
       "      <td>NaN</td>\n",
       "      <td>Na dálku</td>\n",
       "      <td>23200</td>\n",
       "      <td>34900</td>\n",
       "      <td>29050.0</td>\n",
       "      <td>Backend</td>\n",
       "      <td>java</td>\n",
       "    </tr>\n",
       "    <tr>\n",
       "      <th>1</th>\n",
       "      <td>C++ Developer</td>\n",
       "      <td>Sourcein</td>\n",
       "      <td>70k  - 140k  CZK</td>\n",
       "      <td>NaN</td>\n",
       "      <td>Backend, C#</td>\n",
       "      <td>Mid, Senior</td>\n",
       "      <td>Work language:česky</td>\n",
       "      <td>Prague, Altajská 1568/4 (Po pandemi)• Prague,...</td>\n",
       "      <td>Covid-time na dálku</td>\n",
       "      <td>70000</td>\n",
       "      <td>140000</td>\n",
       "      <td>105000.0</td>\n",
       "      <td>Backend</td>\n",
       "      <td>C#</td>\n",
       "    </tr>\n",
       "    <tr>\n",
       "      <th>2</th>\n",
       "      <td>C# Developer</td>\n",
       "      <td>Sourcein</td>\n",
       "      <td>70k  - 140k  CZK</td>\n",
       "      <td>NaN</td>\n",
       "      <td>Backend, C#</td>\n",
       "      <td>Mid, Senior</td>\n",
       "      <td>Work language:česky</td>\n",
       "      <td>Prague, Altajská 1568/4 (Po pandemi)• Prague,...</td>\n",
       "      <td>Covid-time na dálku</td>\n",
       "      <td>70000</td>\n",
       "      <td>140000</td>\n",
       "      <td>105000.0</td>\n",
       "      <td>Backend</td>\n",
       "      <td>C#</td>\n",
       "    </tr>\n",
       "    <tr>\n",
       "      <th>3</th>\n",
       "      <td>Java developer u Medvědů</td>\n",
       "      <td>Coding Bear</td>\n",
       "      <td>60k  - 120k  CZK</td>\n",
       "      <td>NaN</td>\n",
       "      <td>Backend, java</td>\n",
       "      <td>Mid, Senior</td>\n",
       "      <td>Work language:česky</td>\n",
       "      <td>Praha, Vítkova 241/10 • Praha, Vítkova 241/10</td>\n",
       "      <td>NaN</td>\n",
       "      <td>60000</td>\n",
       "      <td>120000</td>\n",
       "      <td>90000.0</td>\n",
       "      <td>Backend</td>\n",
       "      <td>java</td>\n",
       "    </tr>\n",
       "    <tr>\n",
       "      <th>4</th>\n",
       "      <td>Senior Backend Developer</td>\n",
       "      <td>DX Heroes</td>\n",
       "      <td>60k  - 100k  CZK</td>\n",
       "      <td>NaN</td>\n",
       "      <td>Backend, node</td>\n",
       "      <td>Mid, Senior</td>\n",
       "      <td>Work language:česky, angličtina</td>\n",
       "      <td>Praha, Rohanské nábř. 19 • Remote• Praha, Roh...</td>\n",
       "      <td>Na dálku</td>\n",
       "      <td>60000</td>\n",
       "      <td>100000</td>\n",
       "      <td>80000.0</td>\n",
       "      <td>Backend</td>\n",
       "      <td>node</td>\n",
       "    </tr>\n",
       "  </tbody>\n",
       "</table>\n",
       "</div>"
      ],
      "text/plain": [
       "                    jobTitles                 company            salaryRange  \\\n",
       "0    Java Software Developer    Intempt Technologies    23.2k  - 34.9k  CZK    \n",
       "1              C++ Developer                Sourcein       70k  - 140k  CZK    \n",
       "2               C# Developer                Sourcein       70k  - 140k  CZK    \n",
       "3   Java developer u Medvědů             Coding Bear       60k  - 120k  CZK    \n",
       "4   Senior Backend Developer               DX Heroes       60k  - 100k  CZK    \n",
       "\n",
       "  Bonus category+progLang      seniority                     workLanguage  \\\n",
       "0   NaN     Backend, java        Junior          Work language:angličtina   \n",
       "1   NaN       Backend, C#   Mid, Senior               Work language:česky   \n",
       "2   NaN       Backend, C#   Mid, Senior               Work language:česky   \n",
       "3   NaN     Backend, java   Mid, Senior               Work language:česky   \n",
       "4   NaN     Backend, node   Mid, Senior   Work language:česky, angličtina   \n",
       "\n",
       "                                            location                 remote  \\\n",
       "0                                                NaN              Na dálku    \n",
       "1   Prague, Altajská 1568/4 (Po pandemi)• Prague,...   Covid-time na dálku    \n",
       "2   Prague, Altajská 1568/4 (Po pandemi)• Prague,...   Covid-time na dálku    \n",
       "3     Praha, Vítkova 241/10 • Praha, Vítkova 241/10                     NaN   \n",
       "4   Praha, Rohanské nábř. 19 • Remote• Praha, Roh...              Na dálku    \n",
       "\n",
       "   salLower  salUpper    salAvg category mainProgLang  \n",
       "0     23200     34900   29050.0  Backend         java  \n",
       "1     70000    140000  105000.0  Backend           C#  \n",
       "2     70000    140000  105000.0  Backend           C#  \n",
       "3     60000    120000   90000.0  Backend         java  \n",
       "4     60000    100000   80000.0  Backend         node  "
      ]
     },
     "execution_count": 25,
     "metadata": {},
     "output_type": "execute_result"
    }
   ],
   "source": [
    "#category and main programming language\n",
    "df['category'] = df['category+progLang'].str.split(\", \").str[0]\n",
    "df['mainProgLang'] = df['category+progLang'].str.split(\", \").str[1]\n",
    "df.head()"
   ]
  },
  {
   "cell_type": "code",
   "execution_count": 71,
   "id": "1bcd1286-3b8c-4592-981f-f75a3c2aa1c1",
   "metadata": {
    "tags": []
   },
   "outputs": [
    {
     "data": {
      "text/plain": [
       "seniorityAdj\n",
       "Junior           70\n",
       "Mid             190\n",
       "Mid Advanced    243\n",
       "Senior          214\n",
       "dtype: int64"
      ]
     },
     "execution_count": 71,
     "metadata": {},
     "output_type": "execute_result"
    }
   ],
   "source": [
    "#seniority\n",
    "df.groupby(['seniority']).size()\n",
    "# adjusted seniority column\n",
    "df[\"seniorityAdj\"] = df[\"seniority\"].str.strip().replace({'Trainee, Junior': 'Junior', 'Trainee': 'Junior','Senior, Expert':'Senior',\n",
    "                                                          'Expert':'Senior', 'Mid, Senior':'Mid Advanced'})\n",
    "df.groupby(['seniorityAdj']).size()     "
   ]
  },
  {
   "cell_type": "code",
   "execution_count": 96,
   "id": "4bbc93db-07d0-4dfd-a3be-9d2e432eed9b",
   "metadata": {
    "tags": []
   },
   "outputs": [
    {
     "data": {
      "text/plain": [
       "165"
      ]
     },
     "execution_count": 96,
     "metadata": {},
     "output_type": "execute_result"
    }
   ],
   "source": [
    "#Work language\n",
    "df['language'] = df['workLanguage'].str.split(':').str[1]\n",
    "df['language'] = df['language'].str.split(',')\n",
    "\n",
    "df.groupby(['workLanguage']).size()\n",
    "langList = ['angličtina', 'slovensky', 'česky' ]\n",
    "for lang in langList:\n",
    "    df[lang] = df['workLanguage'].str.contains(lang)\n",
    "\n",
    "#['angličtina', 'slovensky', 'česky' ]\n",
    "df['česky'].sum()"
   ]
  },
  {
   "cell_type": "code",
   "execution_count": 67,
   "id": "dd2f34d4-ef89-4d43-a251-d2ccfc10307b",
   "metadata": {},
   "outputs": [
    {
     "name": "stdout",
     "output_type": "stream",
     "text": [
      "mainProgLang\n",
      "java          111\n",
      "python         79\n",
      "javascript     74\n",
      ".net           58\n",
      "react          55\n",
      "php            44\n",
      "dtype: int64\n"
     ]
    }
   ],
   "source": [
    "counts = df.groupby(['mainProgLang']).size().sort_values(ascending=False)\n",
    "print(counts[counts>20])"
   ]
  },
  {
   "cell_type": "code",
   "execution_count": 30,
   "id": "daea04df-b5af-4d21-91ef-9d02d79a9ce7",
   "metadata": {},
   "outputs": [
    {
     "data": {
      "text/plain": [
       "0      True\n",
       "1      True\n",
       "2      True\n",
       "3      True\n",
       "4      True\n",
       "       ... \n",
       "692     NaN\n",
       "693    True\n",
       "694     NaN\n",
       "695     NaN\n",
       "696     NaN\n",
       "Name: location, Length: 697, dtype: object"
      ]
     },
     "execution_count": 30,
     "metadata": {},
     "output_type": "execute_result"
    }
   ],
   "source": [
    "df['location'].str.contains('Praha|Prague')"
   ]
  }
 ],
 "metadata": {
  "kernelspec": {
   "display_name": "Python 3",
   "language": "python",
   "name": "python3"
  },
  "language_info": {
   "codemirror_mode": {
    "name": "ipython",
    "version": 3
   },
   "file_extension": ".py",
   "mimetype": "text/x-python",
   "name": "python",
   "nbconvert_exporter": "python",
   "pygments_lexer": "ipython3",
   "version": "3.8.8"
  }
 },
 "nbformat": 4,
 "nbformat_minor": 5
}
